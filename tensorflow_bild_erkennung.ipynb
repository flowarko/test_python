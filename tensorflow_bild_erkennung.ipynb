{
  "nbformat": 4,
  "nbformat_minor": 0,
  "metadata": {
    "colab": {
      "name": "tensorflow_bild_erkennung.ipynb",
      "provenance": [],
      "collapsed_sections": [],
      "toc_visible": true,
      "authorship_tag": "ABX9TyM9xXscj56nx2yBvrOlTsE1"
    },
    "kernelspec": {
      "name": "python3",
      "display_name": "Python 3"
    }
  },
  "cells": [
    {
      "cell_type": "markdown",
      "metadata": {
        "id": "LLNE9yIFFDmg"
      },
      "source": [
        "# Vorbereitung"
      ]
    },
    {
      "cell_type": "code",
      "metadata": {
        "id": "89daaGjfDFsJ"
      },
      "source": [
        "import tensorflow.keras as tf\r\n",
        "from tensorflow.keras.applications.inception_v3 import InceptionV3\r\n",
        "from tensorflow.keras.applications.inception_v3 import preprocess_input, decode_predictions\r\n",
        "from tensorflow.keras.preprocessing import image\r\n",
        "import matplotlib.pyplot as plt\r\n",
        "import numpy as np\r\n",
        "import os\r\n",
        "%matplotlib inline"
      ],
      "execution_count": null,
      "outputs": []
    },
    {
      "cell_type": "markdown",
      "metadata": {
        "id": "pMjR5hXBFHn7"
      },
      "source": [
        "# Vortrainiertes Netz laden"
      ]
    },
    {
      "cell_type": "code",
      "metadata": {
        "id": "nFgIBPwYFFTf"
      },
      "source": [
        "model = InceptionV3(weights='imagenet')\r\n",
        "model.summary()"
      ],
      "execution_count": null,
      "outputs": []
    },
    {
      "cell_type": "markdown",
      "metadata": {
        "id": "fNcwnkK9HTbM"
      },
      "source": [
        "# Bild vorbereiten"
      ]
    },
    {
      "cell_type": "code",
      "metadata": {
        "id": "k_IGQhb8GGMs"
      },
      "source": [
        "img_file = 'IMG_3519.JPG'\r\n",
        "img = image.load_img(img_file, target_size=(299, 299))\r\n",
        "\r\n",
        "x = image.img_to_array(img)\r\n",
        "x = np.expand_dims(x, axis=0)\r\n",
        "x = preprocess_input(x)\r\n",
        "print(x.shape)\r\n",
        "print(x)"
      ],
      "execution_count": null,
      "outputs": []
    },
    {
      "cell_type": "markdown",
      "metadata": {
        "id": "UTja4yNHHcVR"
      },
      "source": [
        "# Die Ergebnisse"
      ]
    },
    {
      "cell_type": "code",
      "metadata": {
        "id": "78JZTTOaHefc"
      },
      "source": [
        "prediction = model.predict(x)\r\n",
        "decoded = decode_predictions(prediction, top=3)[0]\r\n",
        "print(decoded)"
      ],
      "execution_count": null,
      "outputs": []
    },
    {
      "cell_type": "markdown",
      "metadata": {
        "id": "FWTT7b7mIaHP"
      },
      "source": [
        "# Anzeigen"
      ]
    },
    {
      "cell_type": "code",
      "metadata": {
        "id": "4dsrjetQIZiL"
      },
      "source": [
        "plt.figure(figsize=(8, 8))\r\n",
        "plt.axis('off')\r\n",
        "\r\n",
        "pos_x, pos_y = 1, 10\r\n",
        "for id, lab, prob in decoded:\r\n",
        "  plt.text(pos_x, pos_y, 'Klasse: {} - {:.2f}%'.format(lab, prob * 100),\r\n",
        "           fontsize=12, color='black',\r\n",
        "           bbox=dict(boxstyle='round', pad=0.1, fc='white'))\r\n",
        "  pos_y +=10\r\n",
        "\r\n",
        "plt.imshow(img)"
      ],
      "execution_count": null,
      "outputs": []
    }
  ]
}